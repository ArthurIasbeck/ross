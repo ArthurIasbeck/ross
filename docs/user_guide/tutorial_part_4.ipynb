{
 "cells": [
  {
   "cell_type": "markdown",
   "metadata": {},
   "source": [
    "Tutorial - MultiRotor System\n",
    "======================"
   ]
  },
  {
   "cell_type": "markdown",
   "metadata": {},
   "source": [
    "This is a basic tutorial on how to use the `MultiRotor` class for rotordynamics analysis. Before starting this tutorial, be sure you're already familiar with ROSS library. What changes here is basically the part of building the model, since running the analyses will be practically the same as seen in the other tutorials.\n",
    "\n",
    "When two shafts are joined together by gears, coupling can occur between the lateral and torsional vibration. This interaction is modeled in ROSS based on Rao et al. (1998). In this work, a typical spur gear pair is modeled as a pair of rigid disks connected by a spring and a damping, considering the pressure angle ($\\alpha$) and the oritentation angle ($\\varphi$) as shown in the following:\n",
    "\n",
    "<div style=\"text-align: center;\">\n",
    "    <img src=\"../_static/img/img_tutorial4_gearmesh.png\" alt=\"Gear mesh\" style=\"width: 450px; height: auto;\">\n",
    "    <br>\n",
    "    <small>Figure 1: Global coordinate system of a spur gear pair (Yang et al., 2016).</small>\n",
    "</div>\n",
    "\n",
    "As you can see, an element not yet shown is needed to model the multi-rotor system, the `GearElement`. This new element resembles the `DiskElement` with added attributes, which will be shown next.\n"
   ]
  },
  {
   "cell_type": "markdown",
   "metadata": {},
   "source": [
    "## Section 1: GearElement Class\n",
    "\n",
    "The class `GearElement` allows you to create gear elements. It is a subclass of `DiskElement` that requires information related to its pitch diameter and pressure angle.\n",
    "\n",
    "ROSS offers 2 (two) ways to create a gear element:\n",
    "1. Inputing mass and inertia data\n",
    "2. Inputing geometrical and material data"
   ]
  },
  {
   "cell_type": "markdown",
   "metadata": {},
   "source": [
    "### 1.1 Creating a single gear element\n",
    "\n",
    "In this tutorial, only an example of how to create a single element will be shown. However, the same procedures presented for the `DiskElement` in the first part of the <b>Tutorial</b> can be replicated here. The `GearElement` goes into the same list of disk elements when assembling the rotor.\n",
    "\n",
    "This example below shows how to instantiate a gear element according to the mass and inertia properties:"
   ]
  },
  {
   "cell_type": "code",
   "execution_count": 1,
   "metadata": {},
   "outputs": [],
   "source": [
    "import sys\n",
    "\n",
    "sys.path.append(\"/home/jguarato/Documents/GitHub/ROSS_Code/ross\")\n",
    "sys.path.append(\"/home/jguarato/Documents/GitHub/ROSS_Code/\")\n",
    "\n",
    "import ross as rs\n",
    "import numpy as np\n",
    "import pandas as pd\n",
    "\n",
    "import pickle\n",
    "import plotly.graph_objects as go\n",
    "\n",
    "from ross.units import Q_"
   ]
  },
  {
   "cell_type": "code",
   "execution_count": null,
   "metadata": {},
   "outputs": [],
   "source": [
    "gear = rs.GearElement(\n",
    "    n=0,\n",
    "    m=5,\n",
    "    Id=0.002,\n",
    "    Ip=0.004,\n",
    "    pitch_diameter=0.5,\n",
    "    pressure_angle=Q_(22.5, \"deg\"),\n",
    "    tag=\"Gear\",\n",
    ")\n",
    "gear"
   ]
  },
  {
   "cell_type": "markdown",
   "metadata": {},
   "source": [
    "## Section 2: MultiRotor Class\n",
    "\n",
    "`MultiRotor` is a subclass of `Rotor` class. It takes two rotors (driving and driven) as arguments and couple them with their gears. The object created has several methods that can be used to evaluate the dynamics of the model (they all start with the prefix `.run_`).\n",
    "\n",
    "To use this class, you must input the already instantiated rotors and each one need at least one gear element.\n",
    "\n",
    "The shaft elements are renumbered starting with the elements of the driving rotor.\n",
    "\n",
    "To assemble the matrices, the driving and driven matrices are joined.\n",
    "For the stiffness matrix, the coupling is considered at the nodes of the gears in contact."
   ]
  },
  {
   "cell_type": "markdown",
   "metadata": {},
   "source": [
    "### 2.1 Creating a multi-rotor model\n",
    "Let's create a simple model with two rotors connected by a pair of spur gears and supported by flexible bearings, as shown in Fig. 2. For more details on the description of the model, see the work of Rao et al. (1998).\n",
    "\n",
    "<div style=\"text-align: center;\">\n",
    "    <img src=\"../_static/img/img_tutorial4_multirotor.png\" alt=\"MultiRotor\" style=\"width: 450px; height: auto;\">\n",
    "    <br>\n",
    "    <small>Figure 2: Rotors connected by a pair of spur gears (Friswell et al., 2010).</small>\n",
    "</div>\n",
    "\n",
    "In Figure 2, the first node is 1 (one), but we must remember that in ROSS the node count starts at 0 (zero)."
   ]
  },
  {
   "cell_type": "markdown",
   "metadata": {},
   "source": [
    "#### 2.1.1 Creating material"
   ]
  },
  {
   "cell_type": "code",
   "execution_count": 3,
   "metadata": {},
   "outputs": [],
   "source": [
    "# Creating material\n",
    "material = rs.Material(name=\"mat_steel\", rho=7800, E=207e9, G_s=79.5e9)"
   ]
  },
  {
   "cell_type": "markdown",
   "metadata": {},
   "source": [
    "#### 2.1.2 Creating the driving rotor"
   ]
  },
  {
   "cell_type": "code",
   "execution_count": null,
   "metadata": {},
   "outputs": [],
   "source": [
    "# Creating rotor 1\n",
    "L1 = [0.1, 4.24, 1.16, 0.3]\n",
    "d1 = [0.3, 0.3, 0.22, 0.22]\n",
    "shaft1 = [\n",
    "    rs.ShaftElement(\n",
    "        L=L1[i],\n",
    "        idl=0.0,\n",
    "        odl=d1[i],\n",
    "        material=material,\n",
    "        shear_effects=True,\n",
    "        rotary_inertia=True,\n",
    "        gyroscopic=True,\n",
    "    )\n",
    "    for i in range(len(L1))\n",
    "]\n",
    "\n",
    "generator = rs.DiskElement(\n",
    "    n=1,\n",
    "    m=525.7,\n",
    "    Id=16.1,\n",
    "    Ip=32.2,\n",
    ")\n",
    "disk = rs.DiskElement(\n",
    "    n=2,\n",
    "    m=116.04,\n",
    "    Id=3.115,\n",
    "    Ip=6.23,\n",
    ")\n",
    "\n",
    "pressure_angle = rs.Q_(22.5, \"deg\").to_base_units().m\n",
    "base_radius = 0.5086\n",
    "pitch_diameter = 2 * base_radius / np.cos(pressure_angle)\n",
    "gear1 = rs.GearElement(\n",
    "    n=4,\n",
    "    m=726.4,\n",
    "    Id=56.95,\n",
    "    Ip=113.9,\n",
    "    pitch_diameter=pitch_diameter,\n",
    "    pressure_angle=pressure_angle,\n",
    ")\n",
    "\n",
    "bearing1 = rs.BearingElement(n=0, kxx=183.9e6, kyy=200.4e6, cxx=3e3)\n",
    "bearing2 = rs.BearingElement(n=3, kxx=183.9e6, kyy=200.4e6, cxx=3e3)\n",
    "\n",
    "rotor1 = rs.Rotor(\n",
    "    shaft1,\n",
    "    [generator, disk, gear1],\n",
    "    [bearing1, bearing2],\n",
    ")\n",
    "\n",
    "rotor1.plot_rotor()"
   ]
  },
  {
   "cell_type": "markdown",
   "metadata": {},
   "source": [
    "#### 2.1.3 Creating the driven rotor"
   ]
  },
  {
   "cell_type": "code",
   "execution_count": null,
   "metadata": {},
   "outputs": [],
   "source": [
    "# Creating rotor 2\n",
    "\n",
    "L2 = [0.3, 5, 0.1]\n",
    "d2 = [0.15, 0.15, 0.15]\n",
    "shaft2 = [\n",
    "    rs.ShaftElement(\n",
    "        L=L2[i],\n",
    "        idl=0.0,\n",
    "        odl=d2[i],\n",
    "        material=material,\n",
    "        shear_effects=True,\n",
    "        rotary_inertia=True,\n",
    "        gyroscopic=True,\n",
    "    )\n",
    "    for i in range(len(L2))\n",
    "]\n",
    "\n",
    "base_radius = 0.03567\n",
    "pitch_diameter = 2 * base_radius / np.cos(pressure_angle)\n",
    "gear2 = rs.GearElement(\n",
    "    n=0,\n",
    "    m=5,\n",
    "    Id=0.002,\n",
    "    Ip=0.004,\n",
    "    pitch_diameter=pitch_diameter,\n",
    "    pressure_angle=pressure_angle,\n",
    ")\n",
    "turbine = rs.DiskElement(n=2, m=7.45, Id=0.0745, Ip=0.149)\n",
    "\n",
    "bearing3 = rs.BearingElement(n=1, kxx=10.1e6, kyy=41.6e6, cxx=3e3)\n",
    "bearing4 = rs.BearingElement(n=3, kxx=10.1e6, kyy=41.6e6, cxx=3e3)\n",
    "\n",
    "rotor2 = rs.Rotor(\n",
    "    shaft2,\n",
    "    [gear2, turbine],\n",
    "    [bearing3, bearing4],\n",
    ")\n",
    "\n",
    "rotor2.plot_rotor()"
   ]
  },
  {
   "cell_type": "markdown",
   "metadata": {},
   "source": [
    "#### 2.1.4 Connecting rotors\n",
    "\n",
    "To build the multi-rotor model, we need to inform, in the following order:\n",
    "- the driving rotor,\n",
    "- the driven rotor,\n",
    "- the tuple with the pair of coupled nodes (first number corresponds to the gear node of the driving rotor, and the second of the driven rotor),\n",
    "- the gear ratio, and\n",
    "- the gear mesh stiffness.\n",
    "\n",
    "Finally, we can inform:\n",
    "- the orientation angle (if not defined, zero is adopted as the default),\n",
    "- the position of the driven rotor in relation to the driving rotor only for visualization in the plot (\"above\" or \"below\"), and\n",
    "- a tag."
   ]
  },
  {
   "cell_type": "code",
   "execution_count": null,
   "metadata": {},
   "outputs": [],
   "source": [
    "# Creating multi-rotor\n",
    "\n",
    "N1 = 328  # Number of teeth of gear 1\n",
    "N2 = 23  # Number of teeth of gear 2\n",
    "k_mesh = 1e8  # Mesh stiffness\n",
    "gear_ratio = N1 / N2\n",
    "\n",
    "multirotor = rs.MultiRotor(\n",
    "    rotor1,\n",
    "    rotor2,\n",
    "    coupled_nodes=(4, 0),\n",
    "    gear_ratio=gear_ratio,\n",
    "    gear_mesh_stiffness=k_mesh,\n",
    "    orientation_angle=0,\n",
    "    position=\"below\",\n",
    ")\n",
    "\n",
    "multirotor.plot_rotor()"
   ]
  },
  {
   "cell_type": "markdown",
   "metadata": {},
   "source": [
    "### 2.2 Running analyses\n",
    "We will run some analyses for the multi-rotor in this section and even compare results from the literature."
   ]
  },
  {
   "cell_type": "markdown",
   "metadata": {},
   "source": [
    "#### 2.2.1 Modal analysis\n",
    "\n",
    "Let's start with the modal analysis to obtain the natural frequencies for the coupled rotor when the generator runs at\n",
    "1500 RPM. Then we will compare the results with Friswell et al. (2010).\n",
    "\n",
    "It is worth noting that in the analyses, we must always inform the respective speed of the driving rotor and not the driven one.\n"
   ]
  },
  {
   "cell_type": "code",
   "execution_count": null,
   "metadata": {},
   "outputs": [],
   "source": [
    "# Friswell et al. (2010) results for natural frequencies:\n",
    "Friswell_results = np.array(\n",
    "    [\n",
    "        11.641,\n",
    "        12.284,\n",
    "        17.268,\n",
    "        18.458,\n",
    "        23.956,\n",
    "        37.681,\n",
    "        49.889,\n",
    "        50.861,\n",
    "        56.248,\n",
    "        57.752,\n",
    "        59.188,\n",
    "        63.113,\n",
    "        74.203,\n",
    "    ]\n",
    ")\n",
    "\n",
    "speed = rs.Q_(1500, \"RPM\")\n",
    "frequencies = 13\n",
    "\n",
    "modal = multirotor.run_modal(speed, num_modes=2 * frequencies)\n",
    "wn = np.round(rs.Q_(modal.wn, \"rad/s\").to(\"Hz\").m, 3)\n",
    "\n",
    "print(\"Natural frequencies (Hz)\")\n",
    "pd.DataFrame(\n",
    "    {\n",
    "        \"Friswell et al.\": Friswell_results,\n",
    "        \"ROSS\": wn,\n",
    "        \"Error (%)\": np.abs(wn - Friswell_results) / wn * 100,\n",
    "    }\n",
    ")"
   ]
  },
  {
   "cell_type": "markdown",
   "metadata": {},
   "source": [
    "### 2.2.2 Campbell diagram\n",
    "\n",
    "To obtain the Campbell diagram we can proceed in the same way as seen for a single rotor. Remember that the reference speeds / frequencies are in relation to the driving rotor.\n",
    "\n",
    "In the Campbell diagram below, the dashed lines show the shaft rotation speeds corresponding to the generator (blue, node 1) and turbine (yellow, node 7)."
   ]
  },
  {
   "cell_type": "code",
   "execution_count": null,
   "metadata": {},
   "outputs": [],
   "source": [
    "frequency_range = rs.Q_(np.arange(0, 5000, 100), \"RPM\")\n",
    "\n",
    "campbell = multirotor.run_campbell(frequency_range, frequencies=13)\n",
    "campbell.plot(frequency_units=\"Hz\", harmonics=[1, round(gear_ratio, 3)]).show()"
   ]
  },
  {
   "cell_type": "markdown",
   "metadata": {},
   "source": [
    "### 2.2.3 Unbalance response\n",
    "\n"
   ]
  },
  {
   "cell_type": "code",
   "execution_count": 17,
   "metadata": {},
   "outputs": [],
   "source": [
    "nodes = [2, 7]\n",
    "unb_mag = [35.505e-3, 0.449e-3]\n",
    "unb_phase = [0, 0]\n",
    "\n",
    "dt = 0.1e-4\n",
    "t = np.arange(0, 900, dt)\n",
    "speed1 = rs.Q_(5000, \"RPM\").to_base_units().m  # Generator rotor speed\n",
    "\n",
    "num_dof = multirotor.number_dof"
   ]
  },
  {
   "cell_type": "code",
   "execution_count": null,
   "metadata": {},
   "outputs": [],
   "source": [
    "# Unbalance force\n",
    "F = np.zeros((len(t), multirotor.ndof))\n",
    "\n",
    "for i, node in enumerate(nodes):\n",
    "    speed = multirotor._check_speed(node, speed1)\n",
    "    phi = speed * t + unb_phase[i]\n",
    "\n",
    "    dofx = num_dof * node + 0\n",
    "    dofy = num_dof * node + 1\n",
    "    F[:, dofx] += unb_mag[i] * (speed**2) * np.cos(phi)\n",
    "    F[:, dofy] += unb_mag[i] * (speed**2) * np.sin(phi)"
   ]
  },
  {
   "cell_type": "code",
   "execution_count": 15,
   "metadata": {},
   "outputs": [],
   "source": [
    "# Time response\n",
    "time_resp = multirotor.run_time_response(speed1, F, t)\n",
    "amp_resp = time_resp.yout"
   ]
  },
  {
   "cell_type": "code",
   "execution_count": null,
   "metadata": {},
   "outputs": [],
   "source": [
    "# compare results\n",
    "Yang_results = np.array(\n",
    "    [7.42285, 6.92465, 2.46929, 1.42028, 1.45093, 2.32250, 1.30708, 1.62738, 1.90581]\n",
    ")\n",
    "\n",
    "max_resp = []\n",
    "for node in range(9):\n",
    "    init_step = int(2 * len(t) / 3)\n",
    "\n",
    "    dofx = num_dof * node + 0\n",
    "    dofy = num_dof * node + 1\n",
    "    x = amp_resp[init_step:, dofx]\n",
    "    y = amp_resp[init_step:, dofy]\n",
    "\n",
    "    max_resp.append(max(np.sqrt(x**2 + y**2)) / 1e-5)\n",
    "\n",
    "print(\"Maximum unbalance responses (m)\")\n",
    "pd.DataFrame(\n",
    "    {\n",
    "        \"Yang et al.\": Yang_results,\n",
    "        \"ROSS\": max_resp,\n",
    "        \"Error (%)\": np.abs(max_resp - Yang_results) / Yang_results * 100,\n",
    "    }\n",
    ")"
   ]
  },
  {
   "cell_type": "markdown",
   "metadata": {},
   "source": [
    "----\n",
    "<b>References</b>\n",
    "\n",
    "Friswell, M. I. (2010). Dynamics of rotating machines. Cambridge university press.\n",
    "\n",
    "Rao, J.S., Shiau, T.N. and Chang, J.R. (1998). Theoretical analysis of lateral response due to torsional excitation of geared rotors. <i>Mechanism and Machine Theory</i>, 33 (6), 761-783.\n",
    "\n",
    "Yang, Y., Wang, J., Wang, X. and Dai, Y. (2016). A general method to predict unbalance responses of geared rotor systems. <i>Journal of Sound and Vibration</i>, 381, 246-263."
   ]
  }
 ],
 "metadata": {
  "kernelspec": {
   "display_name": "venv",
   "language": "python",
   "name": "python3"
  },
  "language_info": {
   "codemirror_mode": {
    "name": "ipython",
    "version": 3
   },
   "file_extension": ".py",
   "mimetype": "text/x-python",
   "name": "python",
   "nbconvert_exporter": "python",
   "pygments_lexer": "ipython3",
   "version": "3.10.12"
  }
 },
 "nbformat": 4,
 "nbformat_minor": 2
}
